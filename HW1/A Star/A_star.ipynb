{
 "cells": [
  {
   "attachments": {},
   "cell_type": "markdown",
   "metadata": {},
   "source": [
    "<img src='http://www-scf.usc.edu/~ghasemig/images/sharif.png' alt=\"SUT logo\" width=300 height=300 align=left class=\"saturate\" >\n",
    "\n",
    "<br>\n",
    "<font>\n",
    "<div dir=ltr align=center>\n",
    "<font color=0F5298 size=7>\n",
    "    Artificial Intelligence <br>\n",
    "<font color=2565AE size=5>\n",
    "    Computer Engineering Department <br>\n",
    "    Spring 2023<br>\n",
    "<font color=3C99D size=5>\n",
    "    Practical Assignment 1 - Search <br>\n",
    "<font color=696880 size=4>\n",
    "    Mohammad Mahdi Abootorabi and Roozbeh Pirayadi \n",
    "\n",
    "____"
   ]
  },
  {
   "cell_type": "markdown",
   "metadata": {},
   "source": [
    "# Personal Data"
   ]
  },
  {
   "cell_type": "code",
   "execution_count": 7,
   "metadata": {},
   "outputs": [],
   "source": [
    "# Set your student number\n",
    "student_number = '400109843'\n",
    "Name = 'Pouya'\n",
    "Last_Name = 'Lahabi'"
   ]
  },
  {
   "attachments": {},
   "cell_type": "markdown",
   "metadata": {},
   "source": [
    "# Rules\n",
    "- Make sure that all of your cells can be run perfectly. "
   ]
  },
  {
   "attachments": {},
   "cell_type": "markdown",
   "metadata": {},
   "source": [
    "# Q1: Elevator Ride (100 Points)"
   ]
  },
  {
   "attachments": {},
   "cell_type": "markdown",
   "metadata": {},
   "source": [
    "<font size=4>\n",
    "Author: Roozbeh Pirayadi\n",
    "\t\t\t<br/>\n",
    "                <font color=red>\n",
    "Please run all the cells.\n",
    "     </font>\n",
    "</font>\n",
    "                <br/>\n",
    "    </div>"
   ]
  },
  {
   "attachments": {},
   "cell_type": "markdown",
   "metadata": {},
   "source": [
    "## Problem Definition"
   ]
  },
  {
   "attachments": {},
   "cell_type": "markdown",
   "metadata": {},
   "source": [
    "Computer Engineering department has two floors. There are N students and M professors on the first floor, all of whom, want to go from the first floor to the second floor. The only way to move from the first floor to the second one is by using an elevator. \n",
    "\n",
    "At most two people can fit in the elevator at the same time. Also, the elevator cannot operate by itself. This means that when the elevator moves up or down, there is either one person in the elevator or there are two people in it. \n",
    "\n",
    "But there is a problem. \n",
    "If in any of the mentioned floors, there are more students than proffesors, students will start asking questions from the professors. Professors are not willing to answer any question. So none of them wants to be in a floor where the number of students is more than the number of professors. Note that when there is no professor in the floor the number of students is not important. But when there is, the number of students must be less than or equal to the number of professors.\n",
    "\n",
    "Our goal is to find a schedule for the people to get on the elevator so that this constraint is satisfied.\n",
    "\n",
    "Below you can see a solution for 4 students and 4 professors"
   ]
  },
  {
   "attachments": {},
   "cell_type": "markdown",
   "metadata": {},
   "source": [
    "![SegmentLocal](images/result_of_5_3.gif \"segment\")"
   ]
  },
  {
   "attachments": {},
   "cell_type": "markdown",
   "metadata": {},
   "source": [
    "Every state in the discussed problem could be represented as a 5-tuple (s1, p1, s2, p2, e). Where s1 is the number of students in the first floor, p1 is the number of professors in the first floor, s2 is the number of students in the second floor and p2 is the number of professors in the second floor. Finally e shows which floor the elevator is.\n",
    "\n",
    "Our goal is to find a feasible solution. we will do this by starting from the initial state and searching for the final state. Note that there may be more than one way to the final state so the solution is not unique."
   ]
  },
  {
   "attachments": {},
   "cell_type": "markdown",
   "metadata": {},
   "source": [
    "## Solution"
   ]
  },
  {
   "attachments": {},
   "cell_type": "markdown",
   "metadata": {},
   "source": [
    "### Graph"
   ]
  },
  {
   "attachments": {},
   "cell_type": "markdown",
   "metadata": {},
   "source": [
    "Below is an implementation of a directed weighted graph. You don't need to change anything in this cell. Just take a look at the code, so you could use it."
   ]
  },
  {
   "cell_type": "code",
   "execution_count": 8,
   "metadata": {},
   "outputs": [],
   "source": [
    "###########################################\n",
    "###### no need to change any thing ########\n",
    "###########################################\n",
    "class graph:\n",
    "    def __init__(self):\n",
    "        self.graph = {}\n",
    "        self.visited = {}\n",
    "\n",
    "    # add a new edge between v1 and v2 with weight w or update the weight if edge already exists\n",
    "    def append(self, v1, v2, w):\n",
    "        if v1 not in self.graph.keys():\n",
    "            self.graph[v1] = {}\n",
    "            self.visited[v1] = 0\n",
    "        if v2 not in self.graph.keys():\n",
    "            self.graph[v2] = {}\n",
    "            self.visited[v2] = 0\n",
    "        self.graph[v1][v2] = w\n",
    "\n",
    "    # return adjacency list (used for debugging)\n",
    "    def reveal(self):\n",
    "        return self.graph\n",
    "\n",
    "    # return all vertices in the graph\n",
    "    def vertex(self):\n",
    "        return list(self.graph.keys())\n",
    "\n",
    "    # return all neighbours of a vertix as a list\n",
    "\n",
    "    def neighbour(self, v):\n",
    "        return list(self.graph[v].keys())\n",
    "\n",
    "    # return the weight of a edge\n",
    "\n",
    "    def weight(self, v1, v2):\n",
    "        return (self.graph[v1][v2])\n",
    "\n",
    "    # return the number of vertices\n",
    "\n",
    "    def order(self):\n",
    "        return len(self.graph)\n",
    "\n",
    "    # visit a particular vertex\n",
    "    def visit(self, v):\n",
    "        self.visited[v] = 1\n",
    "\n",
    "    # return the visit status of a particular vertex\n",
    "    def is_visited(self, vertexid):\n",
    "        return self.visited[vertexid]\n",
    "\n",
    "    # return which vertices have been visited\n",
    "    def get_visited(self):\n",
    "        return self.visited\n",
    "\n",
    "    # return degree of a particular vertex\n",
    "    def degree(self, vertexid):\n",
    "        return len(self.graph[vertexid])\n",
    "\n",
    "    # unvisit the whole graph        if whole is True\n",
    "    # unvisit a particular vertex    if whole is False\n",
    "    def clear(self, v=None, whole=False):\n",
    "        if whole:\n",
    "            self.visited = dict(zip(self.graph.keys(), [0 for i in range(len(self.graph))]))\n",
    "        elif v is not None:\n",
    "            self.visited[v] = 0\n",
    "        else:\n",
    "            assert False, \"arguments must satisfy whole=True or v not None\"\n"
   ]
  },
  {
   "attachments": {},
   "cell_type": "markdown",
   "metadata": {},
   "source": [
    "#### Building the graph of states"
   ]
  },
  {
   "attachments": {},
   "cell_type": "markdown",
   "metadata": {},
   "source": [
    "Let's start by a little example and consider a situation where we there are 3 students and 3 professors. Note that your code should be written for the general case using the variables N and M."
   ]
  },
  {
   "cell_type": "code",
   "execution_count": 9,
   "metadata": {},
   "outputs": [],
   "source": [
    "# Number of Students\n",
    "N = 10\n",
    "# Number of Professors\n",
    "M = 10"
   ]
  },
  {
   "attachments": {},
   "cell_type": "markdown",
   "metadata": {},
   "source": [
    "First let's implement a function that receives a 4-tuple (s1, p1, s2, p2) as an input and checks whether this state is a valid one or not. Note that e (position of the elevator) cannot affect the validity of a state so it is not provided as an input."
   ]
  },
  {
   "cell_type": "code",
   "execution_count": 10,
   "metadata": {},
   "outputs": [],
   "source": [
    "# validate a state (s1, p1, s2, p2)\n",
    "# if the constraints are satisfied return true, else return false\n",
    "def validate(input):\n",
    "\n",
    "    s1, p1, s2, p2 = input\n",
    "\n",
    "    ################################################\n",
    "    ###### complete this function (10 Points) ######\n",
    "    ################################################\n",
    "    return (p1 == 0 or p1 >= s1) and (p2 == 0 or p2 >= s2) and (s1 >= 0 and s2 >= 0 and p1 >= 0 and p2 >= 0)\n"
   ]
  },
  {
   "attachments": {},
   "cell_type": "markdown",
   "metadata": {},
   "source": [
    "The below function must build the whole graph. Each scenario is a vertex and v1 is connected to v2 with weight 1 if scenario in v1 could be changed to the scenario in v2 by only one traversal of the elevator.\n",
    "\n",
    "Hint: you can iterate over different values of s1, p1 and e and determine s2 and p2 using N and M. Then you can check all different actions and use the validate function to determine whether taking this action is possible or not."
   ]
  },
  {
   "cell_type": "code",
   "execution_count": 11,
   "metadata": {},
   "outputs": [],
   "source": [
    "# builds the complete graph\n",
    "def build_graph(N, M):\n",
    "    G = graph()\n",
    "\n",
    "    to_first_change_states = [(0, 1, 0, -1, -1), (1, 0, -1, 0, -1), (1, 1, -1, -1, -1), (2, 0, -2, 0, -1), (0, 2, 0, -2, -1)]\n",
    "    to_second_change_states = [(0, -1, 0, 1, 1), (-1, 0, 1, 0, 1), (-1, -1, 1, 1, 1), (-2, 0, 2, 0, 1), (0, -2, 0, 2, 1)]\n",
    "    for s1 in range(0, N + 1):\n",
    "        for p1 in range(0, M + 1):\n",
    "            for e in range(1, 3):\n",
    "                s2 = N - s1\n",
    "                p2 = M - p1\n",
    "                node = (s1, p1, s2, p2, 2)\n",
    "                if not validate(node[0:4]):\n",
    "                    continue\n",
    "                for i in range(len(to_first_change_states)):\n",
    "                    next_node = tuple(map(sum, zip(node, to_first_change_states[i])))\n",
    "                    if validate(next_node[0:4]):\n",
    "                        G.append(node, next_node, 1)\n",
    "                node = (s1, p1, s2, p2, 1)\n",
    "                for i in range(len(to_second_change_states)):\n",
    "                    next_node = tuple(map(sum, zip(node, to_second_change_states[i])))\n",
    "                    if validate(next_node[0:4]):\n",
    "                        G.append(node, next_node, 1)\n",
    "    #############################################\n",
    "    ###  complete this function (25 Points)   ###\n",
    "    #############################################\n",
    "\n",
    "    #############################################\n",
    "    return G\n"
   ]
  },
  {
   "cell_type": "code",
   "execution_count": 12,
   "metadata": {},
   "outputs": [
    {
     "data": {
      "text/plain": [
       "{(0, 0, 10, 10, 2): {(1, 0, 9, 10, 1): 1,\n",
       "  (1, 1, 9, 9, 1): 1,\n",
       "  (2, 0, 8, 10, 1): 1},\n",
       " (1, 0, 9, 10, 1): {(0, 0, 10, 10, 2): 1},\n",
       " (1, 1, 9, 9, 1): {(1, 0, 9, 10, 2): 1, (0, 0, 10, 10, 2): 1},\n",
       " (2, 0, 8, 10, 1): {(1, 0, 9, 10, 2): 1, (0, 0, 10, 10, 2): 1},\n",
       " (0, 10, 10, 0, 2): {(1, 10, 9, 0, 1): 1, (2, 10, 8, 0, 1): 1},\n",
       " (1, 10, 9, 0, 1): {(0, 10, 10, 0, 2): 1},\n",
       " (2, 10, 8, 0, 1): {(1, 10, 9, 0, 2): 1, (0, 10, 10, 0, 2): 1},\n",
       " (1, 0, 9, 10, 2): {(1, 1, 9, 9, 1): 1,\n",
       "  (2, 0, 8, 10, 1): 1,\n",
       "  (3, 0, 7, 10, 1): 1},\n",
       " (3, 0, 7, 10, 1): {(2, 0, 8, 10, 2): 1, (1, 0, 9, 10, 2): 1},\n",
       " (1, 1, 9, 9, 2): {(2, 2, 8, 8, 1): 1},\n",
       " (2, 2, 8, 8, 1): {(1, 1, 9, 9, 2): 1, (2, 0, 8, 10, 2): 1},\n",
       " (1, 10, 9, 0, 2): {(2, 10, 8, 0, 1): 1, (3, 10, 7, 0, 1): 1},\n",
       " (3, 10, 7, 0, 1): {(2, 10, 8, 0, 2): 1, (1, 10, 9, 0, 2): 1},\n",
       " (2, 0, 8, 10, 2): {(3, 0, 7, 10, 1): 1,\n",
       "  (4, 0, 6, 10, 1): 1,\n",
       "  (2, 2, 8, 8, 1): 1},\n",
       " (4, 0, 6, 10, 1): {(3, 0, 7, 10, 2): 1, (2, 0, 8, 10, 2): 1},\n",
       " (2, 2, 8, 8, 2): {(3, 3, 7, 7, 1): 1},\n",
       " (3, 3, 7, 7, 1): {(2, 2, 8, 8, 2): 1},\n",
       " (2, 10, 8, 0, 2): {(3, 10, 7, 0, 1): 1, (4, 10, 6, 0, 1): 1},\n",
       " (4, 10, 6, 0, 1): {(3, 10, 7, 0, 2): 1, (2, 10, 8, 0, 2): 1},\n",
       " (3, 0, 7, 10, 2): {(4, 0, 6, 10, 1): 1, (5, 0, 5, 10, 1): 1},\n",
       " (5, 0, 5, 10, 1): {(4, 0, 6, 10, 2): 1, (3, 0, 7, 10, 2): 1},\n",
       " (3, 3, 7, 7, 2): {(4, 4, 6, 6, 1): 1},\n",
       " (4, 4, 6, 6, 1): {(3, 3, 7, 7, 2): 1},\n",
       " (3, 10, 7, 0, 2): {(4, 10, 6, 0, 1): 1, (5, 10, 5, 0, 1): 1},\n",
       " (5, 10, 5, 0, 1): {(4, 10, 6, 0, 2): 1, (3, 10, 7, 0, 2): 1},\n",
       " (4, 0, 6, 10, 2): {(5, 0, 5, 10, 1): 1, (6, 0, 4, 10, 1): 1},\n",
       " (6, 0, 4, 10, 1): {(5, 0, 5, 10, 2): 1, (4, 0, 6, 10, 2): 1},\n",
       " (4, 4, 6, 6, 2): {(5, 5, 5, 5, 1): 1},\n",
       " (5, 5, 5, 5, 1): {(4, 4, 6, 6, 2): 1},\n",
       " (4, 10, 6, 0, 2): {(5, 10, 5, 0, 1): 1, (6, 10, 4, 0, 1): 1},\n",
       " (6, 10, 4, 0, 1): {(5, 10, 5, 0, 2): 1, (4, 10, 6, 0, 2): 1},\n",
       " (5, 0, 5, 10, 2): {(6, 0, 4, 10, 1): 1, (7, 0, 3, 10, 1): 1},\n",
       " (7, 0, 3, 10, 1): {(6, 0, 4, 10, 2): 1, (5, 0, 5, 10, 2): 1},\n",
       " (5, 5, 5, 5, 2): {(6, 6, 4, 4, 1): 1},\n",
       " (6, 6, 4, 4, 1): {(5, 5, 5, 5, 2): 1},\n",
       " (5, 10, 5, 0, 2): {(6, 10, 4, 0, 1): 1, (7, 10, 3, 0, 1): 1},\n",
       " (7, 10, 3, 0, 1): {(6, 10, 4, 0, 2): 1, (5, 10, 5, 0, 2): 1},\n",
       " (6, 0, 4, 10, 2): {(7, 0, 3, 10, 1): 1, (8, 0, 2, 10, 1): 1},\n",
       " (8, 0, 2, 10, 1): {(7, 0, 3, 10, 2): 1, (6, 0, 4, 10, 2): 1},\n",
       " (6, 6, 4, 4, 2): {(7, 7, 3, 3, 1): 1},\n",
       " (7, 7, 3, 3, 1): {(6, 6, 4, 4, 2): 1},\n",
       " (6, 10, 4, 0, 2): {(7, 10, 3, 0, 1): 1, (8, 10, 2, 0, 1): 1},\n",
       " (8, 10, 2, 0, 1): {(7, 10, 3, 0, 2): 1,\n",
       "  (6, 10, 4, 0, 2): 1,\n",
       "  (8, 8, 2, 2, 2): 1},\n",
       " (7, 0, 3, 10, 2): {(8, 0, 2, 10, 1): 1, (9, 0, 1, 10, 1): 1},\n",
       " (9, 0, 1, 10, 1): {(8, 0, 2, 10, 2): 1, (7, 0, 3, 10, 2): 1},\n",
       " (7, 7, 3, 3, 2): {(8, 8, 2, 2, 1): 1},\n",
       " (8, 8, 2, 2, 1): {(7, 7, 3, 3, 2): 1},\n",
       " (7, 10, 3, 0, 2): {(8, 10, 2, 0, 1): 1, (9, 10, 1, 0, 1): 1},\n",
       " (9, 10, 1, 0, 1): {(9, 9, 1, 1, 2): 1,\n",
       "  (8, 10, 2, 0, 2): 1,\n",
       "  (7, 10, 3, 0, 2): 1},\n",
       " (8, 0, 2, 10, 2): {(9, 0, 1, 10, 1): 1, (10, 0, 0, 10, 1): 1},\n",
       " (10, 0, 0, 10, 1): {(9, 0, 1, 10, 2): 1, (8, 0, 2, 10, 2): 1},\n",
       " (8, 8, 2, 2, 2): {(9, 9, 1, 1, 1): 1, (8, 10, 2, 0, 1): 1},\n",
       " (9, 9, 1, 1, 1): {(8, 8, 2, 2, 2): 1},\n",
       " (8, 10, 2, 0, 2): {(9, 10, 1, 0, 1): 1, (10, 10, 0, 0, 1): 1},\n",
       " (10, 10, 0, 0, 1): {(9, 10, 1, 0, 2): 1,\n",
       "  (9, 9, 1, 1, 2): 1,\n",
       "  (8, 10, 2, 0, 2): 1},\n",
       " (9, 0, 1, 10, 2): {(10, 0, 0, 10, 1): 1},\n",
       " (9, 9, 1, 1, 2): {(9, 10, 1, 0, 1): 1, (10, 10, 0, 0, 1): 1},\n",
       " (9, 10, 1, 0, 2): {(10, 10, 0, 0, 1): 1}}"
      ]
     },
     "execution_count": 12,
     "metadata": {},
     "output_type": "execute_result"
    }
   ],
   "source": [
    "G = build_graph(N, M)\n",
    "G.reveal()"
   ]
  },
  {
   "attachments": {},
   "cell_type": "markdown",
   "metadata": {},
   "source": [
    "### Depth First Search"
   ]
  },
  {
   "attachments": {},
   "cell_type": "markdown",
   "metadata": {},
   "source": [
    "The first algorithm we use to solve the problem is Depth First Search. The function below  executes DFS on G from start until it reaches end. Note that if end is not reachable from start this function returns false and otherwise it returns the found path as a list of states. DFS code is completely and it is used as a baseline to evaulute your A* implementation in the next part."
   ]
  },
  {
   "cell_type": "code",
   "execution_count": 13,
   "metadata": {},
   "outputs": [],
   "source": [
    "###########################################\n",
    "###### no need to change any thing ########\n",
    "###########################################\n",
    "# Depth First Search to find the path from start to end\n",
    "def run_dfs(G, start, end):\n",
    "    queue = []\n",
    "    queue.append(start)\n",
    "\n",
    "    # pred keeps track of how we got to the current vertex\n",
    "    pred = {}\n",
    "\n",
    "    while queue:\n",
    "        current = queue.pop(0)\n",
    "        G.visit(current)\n",
    "\n",
    "        smallq = []\n",
    "\n",
    "        # find children and add to the priority\n",
    "        for newpos in G.neighbour(current):\n",
    "            if not G.is_visited(newpos):\n",
    "                # if the child vertex has already been in queue\n",
    "                # move it to the frontline of queue\n",
    "                if newpos in queue:\n",
    "                    queue.remove(newpos)\n",
    "                smallq.append(newpos)\n",
    "                pred[newpos] = current\n",
    "\n",
    "        queue = smallq+queue\n",
    "\n",
    "        # traversal ends when the target is met\n",
    "        if current == end:\n",
    "            break\n",
    "\n",
    "    if current != end:\n",
    "        return False\n",
    "\n",
    "    # create the path by backtracking\n",
    "    # trace the predecessor vertex from end to start\n",
    "    previous = end\n",
    "    path = []\n",
    "    while pred:\n",
    "        path.insert(0, previous)\n",
    "        if previous == start:\n",
    "            break\n",
    "        previous = pred[previous]\n",
    "\n",
    "    return path\n"
   ]
  },
  {
   "cell_type": "code",
   "execution_count": 23,
   "metadata": {},
   "outputs": [],
   "source": [
    "start_vertex = (N, M, 0, 0, 1)\n",
    "end_vertex = (0, 0, N, M, 2)"
   ]
  },
  {
   "cell_type": "code",
   "execution_count": 24,
   "metadata": {},
   "outputs": [
    {
     "name": "stdout",
     "output_type": "stream",
     "text": [
      "end vertex not reachable\n",
      "number of vertices DFS has traveled: 23\n"
     ]
    }
   ],
   "source": [
    "###########################################\n",
    "###### no need to change any thing ########\n",
    "###########################################\n",
    "def dfs_result(G, start_vertex, end_vertex):\n",
    "\n",
    "    dfs_path = run_dfs(G, start_vertex, end_vertex)\n",
    "\n",
    "    num_of_visited_dfs = 0\n",
    "    num_of_visited_dfs = len([i for i in G.get_visited() if G.get_visited()[i] == 1])\n",
    "\n",
    "    G.clear(whole=True)\n",
    "\n",
    "    if not dfs_path:\n",
    "        print(\"end vertex not reachable\")\n",
    "    else:\n",
    "        print(f'length of the path DFS has found:', len(dfs_path) - 1)\n",
    "\n",
    "    print(f'number of vertices DFS has traveled:', num_of_visited_dfs)\n",
    "\n",
    "\n",
    "dfs_result(G, start_vertex, end_vertex)\n"
   ]
  },
  {
   "attachments": {},
   "cell_type": "markdown",
   "metadata": {},
   "source": [
    "### A* Algorithm"
   ]
  },
  {
   "attachments": {},
   "cell_type": "markdown",
   "metadata": {},
   "source": [
    "Next we use the A* algorithm. To use A* we need to propose a heuristic function. Propose a non-trivial heuristic function and argue that it is admissible. (10 Points)\n",
    "\n"
   ]
  },
  {
   "attachments": {},
   "cell_type": "markdown",
   "metadata": {},
   "source": [
    "<font color='cyan'>\n",
    "\n",
    "$$\n",
    " h((s1, p1, s2, p2, e)) = 2(s1 + p1) - 3\n",
    "$$\n",
    "\n",
    "Your explanation:\n",
    "<br>\n",
    "based on the fact that on the first floor there are $s1 + p1$ people in it.\n",
    "moving one person from the first floor and the elevator returning back to the first floor requires 2 moves.\n",
    "in all steps except the last step(when there is only 2 person on the first floor) we require 2 steps.\n",
    "so in the end we would need at least $2(s1 + p1) - 3$ if we move one person to the second floor in each step(without anyone returning and staying in the first floor)\n",
    "\n",
    "</font>\n",
    "\n"
   ]
  },
  {
   "cell_type": "code",
   "execution_count": 16,
   "metadata": {},
   "outputs": [],
   "source": [
    "def heuristic_func(input):\n",
    "    s1, p1, s2, p2, e = input\n",
    "\n",
    "######################################################\n",
    "###### implement the func you proposed(5 Points) #####\n",
    "######################################################\n",
    "\n",
    "    return 2 * (s1 + p1) - 3\n"
   ]
  },
  {
   "attachments": {},
   "cell_type": "markdown",
   "metadata": {},
   "source": [
    "Like DFS if end is not reachable from start A* must return false and otherwise it must return the found path as a list of states."
   ]
  },
  {
   "cell_type": "code",
   "execution_count": 17,
   "metadata": {},
   "outputs": [],
   "source": [
    "from queue import PriorityQueue\n",
    "# A* to find the path from start to end\n",
    "def run_a_star(G, start, end):\n",
    "    openlist = PriorityQueue()\n",
    "    openlist.put(start, 0)\n",
    "    \n",
    "    cost = {}\n",
    "    cost[start] = 0\n",
    "    \n",
    "    pred = {}\n",
    "    pred[start] = None\n",
    "    \n",
    "    while not openlist.empty():\n",
    "        current = openlist.get()\n",
    "        G.visit(current)\n",
    "        \n",
    "        if end == current:\n",
    "            break\n",
    "        \n",
    "        for child in G.neighbour(current):\n",
    "            new_cost = cost[current] + G.weight(current, child)\n",
    "            if child not in cost:\n",
    "                cost[child] = new_cost\n",
    "                f = new_cost + heuristic_func(child)\n",
    "                openlist.put(child, f)\n",
    "                pred[child] = current\n",
    "                \n",
    "    if current != end:\n",
    "        return False\n",
    "    \n",
    "    previous = end\n",
    "    path = []\n",
    "    while pred:\n",
    "        path.insert(0, previous)\n",
    "        if previous == start:\n",
    "            break\n",
    "        previous = pred[previous]\n",
    "        \n",
    "    return path    \n",
    "        \n",
    "    #######################################################\n",
    "    ######### implement A* algorithm (30 Points) ##########\n",
    "    #######################################################\n"
   ]
  },
  {
   "cell_type": "code",
   "execution_count": 25,
   "metadata": {},
   "outputs": [
    {
     "name": "stdout",
     "output_type": "stream",
     "text": [
      "end vertex not reachable\n",
      "number of vertices A* has traveled: 23\n"
     ]
    }
   ],
   "source": [
    "###########################################\n",
    "###### no need to change any thing ########\n",
    "###########################################\n",
    "def a_star_result(G, start_vertex, end_vertex):\n",
    "\n",
    "    a_star_path = run_a_star(G, start_vertex, end_vertex)\n",
    "\n",
    "    num_of_visited_a_star = 0\n",
    "    num_of_visited_a_star = len([i for i in G.get_visited() if G.get_visited()[i] == 1])\n",
    "\n",
    "    G.clear(whole=True)\n",
    "\n",
    "    if not a_star_path:\n",
    "        print(\"end vertex not reachable\")\n",
    "    else:\n",
    "        print(f'length of the path A* has found:', len(a_star_path) - 1)\n",
    "\n",
    "    print(f'number of vertices A* has traveled:', num_of_visited_a_star)\n",
    "\n",
    "\n",
    "a_star_result(G, start_vertex, end_vertex)\n"
   ]
  },
  {
   "attachments": {},
   "cell_type": "markdown",
   "metadata": {},
   "source": [
    "## Visualization"
   ]
  },
  {
   "attachments": {},
   "cell_type": "markdown",
   "metadata": {},
   "source": [
    "The below code creates a gif named \"result.gif\" which shows the result found by A* algorithm."
   ]
  },
  {
   "cell_type": "code",
   "execution_count": 27,
   "metadata": {},
   "outputs": [
    {
     "ename": "TypeError",
     "evalue": "object of type 'bool' has no len()",
     "output_type": "error",
     "traceback": [
      "\u001b[1;31m---------------------------------------------------------------------------\u001b[0m",
      "\u001b[1;31mTypeError\u001b[0m                                 Traceback (most recent call last)",
      "\u001b[1;32mc:\\Users\\Asus\\Desktop\\Uni\\Term 4\\AI\\HW1\\A Star\\A_star.ipynb Cell 37\u001b[0m in \u001b[0;36m2\n\u001b[0;32m      <a href='vscode-notebook-cell:/c%3A/Users/Asus/Desktop/Uni/Term%204/AI/HW1/A%20Star/A_star.ipynb#X51sZmlsZQ%3D%3D?line=0'>1</a>\u001b[0m \u001b[39mimport\u001b[39;00m \u001b[39mdrawer\u001b[39;00m\n\u001b[1;32m----> <a href='vscode-notebook-cell:/c%3A/Users/Asus/Desktop/Uni/Term%204/AI/HW1/A%20Star/A_star.ipynb#X51sZmlsZQ%3D%3D?line=1'>2</a>\u001b[0m drawer\u001b[39m.\u001b[39;49mcreate_gif(run_a_star(G, start_vertex, end_vertex))\n\u001b[0;32m      <a href='vscode-notebook-cell:/c%3A/Users/Asus/Desktop/Uni/Term%204/AI/HW1/A%20Star/A_star.ipynb#X51sZmlsZQ%3D%3D?line=2'>3</a>\u001b[0m G\u001b[39m.\u001b[39mclear(whole\u001b[39m=\u001b[39m\u001b[39mTrue\u001b[39;00m)\n",
      "File \u001b[1;32mc:\\Users\\Asus\\Desktop\\Uni\\Term 4\\AI\\HW1\\A Star\\drawer.py:42\u001b[0m, in \u001b[0;36mcreate_gif\u001b[1;34m(solution)\u001b[0m\n\u001b[0;32m     38\u001b[0m ax\u001b[39m.\u001b[39mset_xlim(\u001b[39m0\u001b[39m, \u001b[39m13\u001b[39m)\n\u001b[0;32m     39\u001b[0m ax\u001b[39m.\u001b[39mset_ylim(\u001b[39m0\u001b[39m, \u001b[39m7\u001b[39m)\n\u001b[0;32m     41\u001b[0m anim \u001b[39m=\u001b[39m pltani\u001b[39m.\u001b[39mFuncAnimation(fig, draw_elevator,\n\u001b[1;32m---> 42\u001b[0m                             frames\u001b[39m=\u001b[39m\u001b[39mlen\u001b[39;49m(solution),\n\u001b[0;32m     43\u001b[0m                             interval\u001b[39m=\u001b[39m\u001b[39m900\u001b[39m,\n\u001b[0;32m     44\u001b[0m                             fargs\u001b[39m=\u001b[39m(ax, solution, elevator))\n\u001b[0;32m     45\u001b[0m anim\u001b[39m.\u001b[39msave(\u001b[39m'\u001b[39m\u001b[39mresult.gif\u001b[39m\u001b[39m'\u001b[39m)\n",
      "\u001b[1;31mTypeError\u001b[0m: object of type 'bool' has no len()"
     ]
    },
    {
     "data": {
      "image/png": "[encoded data removed]",
      "text/plain": [
       "<Figure size 900x500 with 1 Axes>"
      ]
     },
     "metadata": {},
     "output_type": "display_data"
    }
   ],
   "source": [
    "import drawer\n",
    "drawer.create_gif(run_a_star(G, start_vertex, end_vertex))\n",
    "G.clear(whole=True)"
   ]
  },
  {
   "attachments": {},
   "cell_type": "markdown",
   "metadata": {},
   "source": [
    "## Results"
   ]
  },
  {
   "attachments": {},
   "cell_type": "markdown",
   "metadata": {},
   "source": [
    "Now results of DFS and A* could be compared. Run the code below and explain the result. (10 Points)"
   ]
  },
  {
   "cell_type": "code",
   "execution_count": 31,
   "metadata": {},
   "outputs": [
    {
     "name": "stdout",
     "output_type": "stream",
     "text": [
      "length of the path DFS has found: 29037\n",
      "number of vertices DFS has traveled: 29876\n",
      "length of the path A* has found: 957\n",
      "number of vertices A* has traveled: 1551\n"
     ]
    }
   ],
   "source": [
    "N = 200\n",
    "M = 280\n",
    "\n",
    "start_vertex = (N, M, 0, 0, 1)\n",
    "end_vertex = (0, 0, N, M, 2)\n",
    "\n",
    "G = build_graph(N, M)\n",
    "\n",
    "dfs_result(G, start_vertex, end_vertex)\n",
    "a_star_result(G, start_vertex, end_vertex)\n"
   ]
  },
  {
   "attachments": {},
   "cell_type": "markdown",
   "metadata": {},
   "source": [
    "<font color='cyan'>\n",
    "\n",
    "Your explanation.\n",
    "<br>\n",
    "as we expected the path that A* returned is the optimal answer, because of the heuristic.\n",
    "but DFS depends on the way that we add the nodes to the graph.\n",
    "A* takes more time than DFS becuase it finds the optimal answer but DFS only find a way from start to end and doesn't care about it being optimal or not.\n",
    "</font>"
   ]
  },
  {
   "attachments": {},
   "cell_type": "markdown",
   "metadata": {},
   "source": [
    "Cell below runs some tests on dfs and stores the results in \"student_number.txt\". Then run the cell and upload the result on Quera."
   ]
  },
  {
   "cell_type": "code",
   "execution_count": null,
   "metadata": {},
   "outputs": [],
   "source": [
    "tests = [(100, 140), (200, 260), (600, 610), (800, 1000)]\n",
    "\n",
    "f = open(student_number + \".txt\", \"w\")\n",
    "\n",
    "\n",
    "def run_tests():\n",
    "    for test in tests:\n",
    "        N, M = test\n",
    "        G = graph()\n",
    "        start_vertex = (N, M, 0, 0, 1)\n",
    "        end_vertex = (0, 0, N, M, 2)\n",
    "\n",
    "        G = build_graph(N, M)\n",
    "\n",
    "        f.write(str(run_a_star(G, start_vertex, end_vertex)))\n",
    "        G.clear(whole=True)\n",
    "\n",
    "    f.close()\n",
    "\n",
    "\n",
    "run_tests()\n"
   ]
  },
  {
   "cell_type": "code",
   "execution_count": null,
   "metadata": {},
   "outputs": [],
   "source": []
  }
 ],
 "metadata": {
  "kernelspec": {
   "display_name": "Python 3",
   "language": "python",
   "name": "python3"
  },
  "language_info": {
   "codemirror_mode": {
    "name": "ipython",
    "version": 3
   },
   "file_extension": ".py",
   "mimetype": "text/x-python",
   "name": "python",
   "nbconvert_exporter": "python",
   "pygments_lexer": "ipython3",
   "version": "3.10.10"
  },
  "orig_nbformat": 4,
  "vscode": {
   "interpreter": {
    "hash": "66f804da07f0f556d77bc3269dc5bb19edf020422864031af2885e5ff55f9079"
   }
  }
 },
 "nbformat": 4,
 "nbformat_minor": 2
}
