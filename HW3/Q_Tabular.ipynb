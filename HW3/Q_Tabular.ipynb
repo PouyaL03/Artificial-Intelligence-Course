{
  "cells": [
    {
      "cell_type": "markdown",
      "metadata": {
        "id": "mnPrHK8-SC8r"
      },
      "source": [
        "<img src='http://www-scf.usc.edu/~ghasemig/images/sharif.png' alt=\"SUT logo\" width=300 height=300 align=left class=\"saturate\" >\n",
        "\n",
        "<br>\n",
        "<font>\n",
        "<div dir=ltr align=center>\n",
        "<font color=0F5298 size=7>\n",
        "    Artificial Intelligence <br>\n",
        "<font color=2565AE size=5>\n",
        "    Computer Engineering Department <br>\n",
        "    Spring 2023<br>\n",
        "<font color=3C99D size=5>\n",
        "    Practical Assignment 3 - Reinforcement Learning <br>\n",
        "<font color=696880 size=4>\n",
        "    Mohammad Moshtaghi - Ali Salesi - Hossein Goli\n",
        "\n",
        "____"
      ]
    },
    {
      "cell_type": "markdown",
      "metadata": {
        "id": "yaQIB7tYSC8t"
      },
      "source": [
        "# Personal Data"
      ]
    },
    {
      "cell_type": "code",
      "execution_count": 52,
      "metadata": {
        "id": "0D2P0ZKnSC8t",
        "colab": {
          "base_uri": "https://localhost:8080/"
        },
        "outputId": "329c0b51-f05c-4213-fbb8-5082e223b156"
      },
      "outputs": [
        {
          "output_type": "stream",
          "name": "stderr",
          "text": [
            "/usr/local/lib/python3.10/dist-packages/ipykernel/ipkernel.py:283: DeprecationWarning: `should_run_async` will not call `transform_cell` automatically in the future. Please pass the result to `transformed_cell` argument and any exception that happen during thetransform in `preprocessing_exc_tuple` in IPython 7.17 and above.\n",
            "  and should_run_async(code)\n"
          ]
        }
      ],
      "source": [
        "# Set your student number\n",
        "student_number = '400109843'\n",
        "first_name = 'Pouya'\n",
        "last_name = 'Lahabi'"
      ]
    },
    {
      "cell_type": "code",
      "execution_count": 53,
      "metadata": {
        "id": "Ej_7k6tvSC8u"
      },
      "outputs": [],
      "source": [
        "# !pip install gym[toy_text]\n",
        "\n",
        "import gym \n",
        "import numpy as np\n",
        "from IPython.display import clear_output\n",
        "import matplotlib.pyplot as plt\n",
        "import os\n",
        "from tqdm import trange\n",
        "import time\n",
        "os.environ[\"SDL_VIDEODRIVER\"] = \"dummy\"\n",
        "clear_output() # You can use this method to clear your cell's output. "
      ]
    },
    {
      "cell_type": "markdown",
      "metadata": {
        "id": "ndFqHwbeSC8u"
      },
      "source": [
        "# Q1: Q-Learning (100 Points)"
      ]
    },
    {
      "cell_type": "markdown",
      "metadata": {
        "id": "hhK-hXPbSC8u"
      },
      "source": [
        "<font size=4>\n",
        "Author: Mohammad Moshtaghi\n",
        "<br/>\n",
        "<font color=red>\n",
        "Please run all the cells.\n",
        "</font>\n",
        "</font>\n",
        "<br/>\n",
        "</div>"
      ]
    },
    {
      "cell_type": "markdown",
      "metadata": {
        "id": "93rO1BoISC8u"
      },
      "source": [
        "# 1. Cliff Walking (70 pts)"
      ]
    },
    {
      "cell_type": "markdown",
      "metadata": {
        "id": "Y63dTEaSSC8v"
      },
      "source": [
        "In this section we are going to implement different Temporal Difference algorithms and compare their results. We start with a simple problem called **Cliff Walking**. You may have seen this game in your lecture slides and here we are going to train an RL Agent to play this game optimally.\n",
        "\n",
        "First, lets get familiar with game's environment."
      ]
    },
    {
      "cell_type": "markdown",
      "metadata": {
        "id": "-S5lmuYgSC8v"
      },
      "source": [
        "## 1-1. Environment (10 pts)"
      ]
    },
    {
      "cell_type": "markdown",
      "metadata": {
        "id": "a7uyaEweSC8v"
      },
      "source": [
        "Lets declare our environment and see some of its hyperparameters."
      ]
    },
    {
      "cell_type": "code",
      "execution_count": 54,
      "metadata": {
        "colab": {
          "base_uri": "https://localhost:8080/"
        },
        "id": "8y2jlEx4SC8v",
        "outputId": "e13ec736-06a5-4f39-b354-69d97b850697"
      },
      "outputs": [
        {
          "output_type": "stream",
          "name": "stdout",
          "text": [
            "Action Space: Discrete(4)\n",
            "Observation Space: Discrete(48)\n",
            "Max Episode Steps: None\n",
            "Nondeterministic: False\n",
            "Reward Range: (-inf, inf)\n",
            "Reward Threshold: None\n",
            "\n"
          ]
        },
        {
          "output_type": "stream",
          "name": "stderr",
          "text": [
            "/usr/local/lib/python3.10/dist-packages/gym/core.py:317: DeprecationWarning: \u001b[33mWARN: Initializing wrapper in old step API which returns one bool instead of two. It is recommended to set `new_step_api=True` to use new step API. This will be the default behaviour in future.\u001b[0m\n",
            "  deprecation(\n",
            "/usr/local/lib/python3.10/dist-packages/gym/wrappers/step_api_compatibility.py:39: DeprecationWarning: \u001b[33mWARN: Initializing environment in old step API which returns one bool instead of two. It is recommended to set `new_step_api=True` to use new step API. This will be the default behaviour in future.\u001b[0m\n",
            "  deprecation(\n"
          ]
        }
      ],
      "source": [
        "env = gym.make('CliffWalking-v0')\n",
        "spec = gym.spec('CliffWalking-v0')\n",
        "\n",
        "print(f\"Action Space: {env.action_space}\")\n",
        "print(f\"Observation Space: {env.observation_space}\")\n",
        "print(f\"Max Episode Steps: {spec.max_episode_steps}\")\n",
        "print(f\"Nondeterministic: {spec.nondeterministic}\")\n",
        "print(f\"Reward Range: {env.reward_range}\")\n",
        "print(f\"Reward Threshold: {spec.reward_threshold}\\n\")"
      ]
    },
    {
      "cell_type": "code",
      "execution_count": 55,
      "metadata": {
        "id": "2mz2AdwsSC8v"
      },
      "outputs": [],
      "source": [
        "Actions =  {0: 'UP', \n",
        "            1: 'RIGHT',\n",
        "            2: 'DOWN',\n",
        "            3: 'LEFT'}"
      ]
    },
    {
      "cell_type": "markdown",
      "metadata": {
        "id": "8d3B47FrSC8v"
      },
      "source": [
        "You can use **_visualize_** function to draw your state."
      ]
    },
    {
      "cell_type": "code",
      "execution_count": 56,
      "metadata": {
        "id": "GYSJG_noSC8w"
      },
      "outputs": [],
      "source": [
        "def visualize(env, action=None, reward=None):\n",
        "    env_screen = env.render(mode = 'rgb_array')\n",
        "    plt.imshow(env_screen)\n",
        "    plt.axis('off');\n",
        "    title = ''\n",
        "    if action:\n",
        "        title += f'Action: {Actions[action]}'\n",
        "    if reward:\n",
        "        title += f'Reward: {reward}'\n",
        "    \n",
        "    plt.title(title)\n",
        "    plt.show()"
      ]
    },
    {
      "cell_type": "markdown",
      "metadata": {
        "id": "bGof0cAxSC8w"
      },
      "source": [
        "Test `visualize` function with a random action. First, using `env.reset` function, we reset our environment so that our agent returns to the starting point. for moving your agent, use `env.step` function. it returns four values:\n",
        "\n",
        "1. next_state\n",
        "2. reward\n",
        "3. done\n",
        "4. some info (Honestly, it doesn't matter)\n",
        "\n",
        "You may need this functions later :)\n",
        "\n"
      ]
    },
    {
      "cell_type": "code",
      "execution_count": 57,
      "metadata": {
        "colab": {
          "base_uri": "https://localhost:8080/"
        },
        "id": "HdiRki8mSC8w",
        "outputId": "97a6c7bc-0125-49a3-a5c9-135d3f0cae74"
      },
      "outputs": [
        {
          "output_type": "stream",
          "name": "stdout",
          "text": [
            "36\n"
          ]
        }
      ],
      "source": [
        "print(env.reset()) # You can use this function to reset your environment.\n",
        "######################## YOUR CODE HERE ########################\n",
        "# visualize(env=env, action=None, reward=None)\n",
        "# next_state, reward, done, _ = env.step(0)\n",
        "# visualize(env, action = 0, reward = reward)\n",
        "# for _ in range(11):\n",
        "#   next_state, reward, done, _ = env.step(1)\n",
        "#   visualize(env, action = 1, reward = reward)\n",
        "# next_state, reward, done, _ = env.step(1)\n",
        "# visualize(env, action = 1, reward = reward)\n",
        "######################## END YOUR CODE #########################"
      ]
    },
    {
      "cell_type": "markdown",
      "metadata": {
        "id": "gW7MQn6MSC8w"
      },
      "source": [
        "## 1-2. Agent"
      ]
    },
    {
      "cell_type": "markdown",
      "metadata": {
        "id": "F7HPnIp8SC8w"
      },
      "source": [
        "Please read the class below. You must inherite this class in the following sections and implement different RL algorithms."
      ]
    },
    {
      "cell_type": "code",
      "execution_count": 58,
      "metadata": {
        "id": "m5LTtap8SC8w"
      },
      "outputs": [],
      "source": [
        "class Agent:\n",
        "\n",
        "    def __init__(self, env, noise):\n",
        "        self.policy = {}\n",
        "        self.env = env\n",
        "        self.q_values = np.zeros((self.env.observation_space.n, self.env.action_space.n))\n",
        "        self.noise = noise\n",
        "        ######################## YOUR CODE HERE ########################\n",
        "        # Declare any variables you need.\n",
        "        self.state = env.reset()\n",
        "        ######################## END YOUR CODE #########################\n",
        "\n",
        "    def learn(self, num_episodes, alpha, gamma, epsilon):\n",
        "        \"\"\"\n",
        "        Implement your Reinforcement Learning algorithm and train your agent in this function. \n",
        "        At the end, you must fill the q_values array.\n",
        "\n",
        "        Inputs:\n",
        "            - alpha: Learning rate\n",
        "            - gamma: Discount factor\n",
        "            - epsilon: The probability that the agent will act randomly instead of greedy in sampling.\n",
        "        \"\"\"\n",
        "\n",
        "        raise NotImplementedError()\n",
        "    \n",
        "    def create_policy(self):\n",
        "        \"\"\"\n",
        "        Create your policy in this function after your agent learns the q_values.\n",
        "        \"\"\"\n",
        "        ######################## YOUR CODE HERE ########################\n",
        "        for s in range(self.env.observation_space.n):\n",
        "          self.policy[s] = np.argmax(self.q_values[s])\n",
        "        ######################## END YOUR CODE #########################\n",
        "        pass\n",
        "        \n",
        "    def act(self):\n",
        "        \"\"\"\n",
        "        Move your agent one step according to your policy.\n",
        "        \"\"\"\n",
        "        ######################## YOUR CODE HERE ########################\n",
        "        action = 0\n",
        "        if (np.random.uniform(0, 1) < self.noise):\n",
        "          action = self.env.action_space.sample()\n",
        "        else:\n",
        "          action = self.policy[self.state]\n",
        "        self.state, reward, done, _ = self.env.step(action)\n",
        "        ######################## END YOUR CODE #########################\n",
        "        return self.state, reward, done, action\n",
        "\n",
        "    def evaluate(self, num_episodes):\n",
        "        \"\"\"\n",
        "        Sample num_episodes episodes from your agent that acts according to your policy.\n",
        "        Then return the average rewards it gets.\n",
        "\n",
        "        Inputs:\n",
        "            - num_episodes: Number of episodes for sampling.\n",
        "        \"\"\"\n",
        "        ######################## YOUR CODE HERE ########################\n",
        "        sum_rewards = 0\n",
        "        self.create_policy()\n",
        "        for _ in range(num_episodes):\n",
        "          done = False\n",
        "          self.state = self.env.reset()\n",
        "          while not done:\n",
        "            self.state, reward, done, _ = self.act()\n",
        "            sum_rewards += reward\n",
        "        ######################## END YOUR CODE #########################\n",
        "        return sum_rewards/num_episodes\n"
      ]
    },
    {
      "cell_type": "markdown",
      "metadata": {
        "id": "RmrE30MJSC8w"
      },
      "source": [
        "## 1-3. Q-Learning (15 pts)"
      ]
    },
    {
      "cell_type": "markdown",
      "metadata": {
        "id": "I86_pzzwSC8x"
      },
      "source": [
        "In this section, you must use **_Q-Learning_** algorithm to train your agent. Note that the action-value function Q(s,a) is updated iteratively as follows:\n",
        "\n",
        "$$ Q(s,a) \\leftarrow Q(s,a) + \\alpha \\left( r + \\gamma \\max_{a'} Q(s',a') - Q(s,a) \\right) $$\n",
        "\n",
        "where ‍‍‍‍‍`r` is the reward received after taking action a in state `s`, `s'` is the new state, $\\gamma$ is the discount factor (a value between 0 and 1 that determines the importance of future rewards), and $\\alpha$ is the learning rate (determines the step size at which the value function is updated)."
      ]
    },
    {
      "cell_type": "code",
      "execution_count": 81,
      "metadata": {
        "id": "uJAaCD2wSC8x"
      },
      "outputs": [],
      "source": [
        "class CliffWalkerQL(Agent):\n",
        "    \n",
        "    def learn(self, num_episodes, alpha, gamma, epsilon):\n",
        "        ######################## YOUR CODE HERE ########################\n",
        "        for _ in range(num_episodes):\n",
        "          state = self.env.reset()\n",
        "          done = False\n",
        "\n",
        "          while (not done):\n",
        "            if (np.random.uniform(0, 1) < epsilon):\n",
        "              action = np.random.choice(len(Actions))\n",
        "            else:\n",
        "              action = np.argmax(self.q_values[state])\n",
        "            # next_state = None\n",
        "            # reward = 0\n",
        "            # if (np.random.uniform(0, 1) < self.noise):\n",
        "            #   next_state, reward, done, _ = self.env.step(self.env.action_space.sample())\n",
        "            # else:\n",
        "            #   next_state, reward, done, _ = self.env.step(action)\n",
        "            next_state, reward, done, _ = self.env.step(action)\n",
        "            sample = reward + gamma * np.max(self.q_values[next_state])\n",
        "            self.q_values[state][action] += alpha * (sample - self.q_values[state][action])\n",
        "            state = next_state\n",
        "        ######################## END YOUR CODE #########################\n",
        "        pass"
      ]
    },
    {
      "cell_type": "markdown",
      "metadata": {
        "id": "Wr-yaJJNSC8x"
      },
      "source": [
        "## 1-4. Q-Learning Evaluation (10 pts)"
      ]
    },
    {
      "cell_type": "markdown",
      "metadata": {
        "id": "s1h7GlcBSC8x"
      },
      "source": [
        "Train your agent and then evaluate it and display the result. Using the `visualize` function, show the path your agent takes in one of the episodes."
      ]
    },
    {
      "cell_type": "code",
      "execution_count": 60,
      "metadata": {
        "id": "tFxNe1muSC8x"
      },
      "outputs": [],
      "source": [
        "cliff_walker_ql = CliffWalkerQL(env, 0)\n",
        "alpha = 0.8\n",
        "gamma = 0.95\n",
        "epsilon = 0.2\n",
        "episodes = 1000\n",
        "cliff_walker_ql.learn(episodes, alpha, gamma, epsilon)"
      ]
    },
    {
      "cell_type": "code",
      "execution_count": 61,
      "metadata": {
        "colab": {
          "base_uri": "https://localhost:8080/"
        },
        "id": "rf8OyBWXMQEa",
        "outputId": "88ddcb44-7ee3-415a-ef14-ad6fd10becfb"
      },
      "outputs": [
        {
          "output_type": "stream",
          "name": "stdout",
          "text": [
            "evaluation: -13.0\n"
          ]
        }
      ],
      "source": [
        "######################## YOUR CODE HERE ########################\n",
        "print(f'evaluation: {cliff_walker_ql.evaluate(1)}')\n",
        "# done = False\n",
        "# cliff_walker_ql.env.reset()\n",
        "# visualize(cliff_walker_ql.env)\n",
        "# while (not done):\n",
        "#   _, reward, done, action = cliff_walker_ql.act()\n",
        "#   visualize(cliff_walker_ql.env, reward=reward, action=action)\n",
        "######################## END YOUR CODE #########################"
      ]
    },
    {
      "cell_type": "markdown",
      "metadata": {
        "id": "KX2z37bNSC8x"
      },
      "source": [
        "## 1-5. SARSA (15 pts)"
      ]
    },
    {
      "cell_type": "markdown",
      "metadata": {
        "id": "zrRY6QUhSC8x"
      },
      "source": [
        "This time, you should use the SARSA algorithm, which is slightly different from the Q-Learning in implementation. But the result may significantly differ, and you should explain this difference, if any. \n",
        "\n",
        "Note that the SARSA update rule can be represented as:\n",
        "\n",
        "$$Q(S_t,A_t) \\leftarrow Q(S_t,A_t) + \\alpha \\left( R_{t+1} + \\gamma Q(S_{t+1},A_{t+1}) - Q(S_t,A_t) \\right)$$\n",
        "\n",
        "\n",
        "Where $Q(S_t,A_t)$ is the current estimate of the expected return for taking action $A_t$ in state $S_t$, $\\alpha$ is the learning rate, $R_{t+1}$ is the reward received after taking action $A_t$ in state $S_t$, $\\gamma$ is the discount factor, and $Q(S_{t+1},A_{t+1})$ is the estimated return for taking action $A_{t+1}$ in the next state $S_{t+1}$."
      ]
    },
    {
      "cell_type": "code",
      "execution_count": 62,
      "metadata": {
        "id": "u9FGjLjdSC8y"
      },
      "outputs": [],
      "source": [
        "class CliffWalkerSARSA(Agent):\n",
        "    \n",
        "    def learn(self, num_episodes, alpha, gamma, epsilon):\n",
        "        ######################## YOUR CODE HERE ########################\n",
        "        for _ in range(num_episodes):\n",
        "          state = self.env.reset()\n",
        "          done = False\n",
        "          action = self.get_action(state, epsilon)\n",
        "\n",
        "          while (not done):\n",
        "            next_state, reward, done, _ = self.env.step(action)\n",
        "            next_action = self.get_action(next_state, epsilon)\n",
        "            sample = reward + gamma * self.q_values[next_state][next_action]\n",
        "            self.q_values[state][action] += alpha * (sample - self.q_values[state][action])\n",
        "            state = next_state\n",
        "            action = next_action\n",
        "        ######################## END YOUR CODE #########################\n",
        "    \n",
        "    def get_action(self, state, epsilon):\n",
        "      action = 0\n",
        "      if (np.random.uniform(0, 1) < epsilon):\n",
        "        action = self.env.action_space.sample()\n",
        "      else:\n",
        "        action = np.argmax(self.q_values[state])\n",
        "      return action\n"
      ]
    },
    {
      "cell_type": "markdown",
      "metadata": {
        "id": "kN6-_unHSC8y"
      },
      "source": [
        "## 1-6. SARSA Evaluation (10 pts)"
      ]
    },
    {
      "cell_type": "markdown",
      "metadata": {
        "id": "wrzzLcq-SC8y"
      },
      "source": [
        "Train your agent and then evaluate it and display the result. Using the `visualize` function, show the path your agent takes in one of the episodes."
      ]
    },
    {
      "cell_type": "code",
      "execution_count": 63,
      "metadata": {
        "id": "fJUVwlHQSC8y"
      },
      "outputs": [],
      "source": [
        "cliff_walker_sarsa = CliffWalkerSARSA(env, 0)\n",
        "alpha = 0.1\n",
        "gamma = 0.9\n",
        "epsilon = 0.4\n",
        "episodes = 1000 \n",
        "cliff_walker_sarsa.learn(episodes, alpha, gamma, epsilon)"
      ]
    },
    {
      "cell_type": "code",
      "execution_count": 64,
      "metadata": {
        "colab": {
          "base_uri": "https://localhost:8080/"
        },
        "id": "cL-SmCrfSC8y",
        "outputId": "2eb9f824-ba9d-4731-bce3-6d024d32c97e"
      },
      "outputs": [
        {
          "output_type": "stream",
          "name": "stdout",
          "text": [
            "-17.0\n"
          ]
        }
      ],
      "source": [
        "######################## YOUR CODE HERE ########################\n",
        "print(cliff_walker_sarsa.evaluate(1))\n",
        "  # cliff_walker_sarsa.env.reset()\n",
        "  # visualize(cliff_walker_sarsa.env)\n",
        "  # done = False\n",
        "  # while (not done):\n",
        "  #   _, reward, done, action = cliff_walker_sarsa.act()\n",
        "  #   visualize(cliff_walker_sarsa.env, reward=reward, action=action)\n",
        "######################## END YOUR CODE #########################"
      ]
    },
    {
      "cell_type": "markdown",
      "metadata": {
        "id": "jO7CAc44SC8y"
      },
      "source": [
        "## 1-7. Increase Noises (10 pts)"
      ]
    },
    {
      "cell_type": "markdown",
      "metadata": {
        "id": "5kvfFCGPSC8y"
      },
      "source": [
        "Increase noise and see how your obtained policy changes. Do this for both above algorithms and repeat above steps."
      ]
    },
    {
      "cell_type": "code",
      "execution_count": 82,
      "metadata": {
        "id": "tSYMBdwSSC8y",
        "colab": {
          "base_uri": "https://localhost:8080/"
        },
        "outputId": "851b4ab5-f598-46a5-8bea-9b5f9bcc577d"
      },
      "outputs": [
        {
          "output_type": "stream",
          "name": "stdout",
          "text": [
            "evaluation: -85.1919\n"
          ]
        }
      ],
      "source": [
        "######################## YOUR CODE HERE ########################\n",
        "cliff_walker_ql = CliffWalkerQL(env, 0.2)\n",
        "alpha = 0.8\n",
        "gamma = 0.95\n",
        "epsilon = 0.2\n",
        "episodes = 1000\n",
        "cliff_walker_ql.learn(episodes, alpha, gamma, epsilon)\n",
        "print(f'evaluation: {cliff_walker_ql.evaluate(10000)}')\n",
        "######################## END YOUR CODE #########################"
      ]
    },
    {
      "cell_type": "code",
      "source": [
        "cliff_walker_sarsa = CliffWalkerSARSA(env, 0.2)\n",
        "alpha = 0.1\n",
        "gamma = 0.9\n",
        "epsilon = 0.4\n",
        "episodes = 1000 \n",
        "cliff_walker_sarsa.learn(episodes, alpha, gamma, epsilon)\n",
        "print(f'evaluation: {cliff_walker_sarsa.evaluate(10000)}')"
      ],
      "metadata": {
        "colab": {
          "base_uri": "https://localhost:8080/"
        },
        "id": "4diiQiI2C83W",
        "outputId": "d6383802-214b-478a-b8ba-b3b7ae68a6d2"
      },
      "execution_count": 84,
      "outputs": [
        {
          "output_type": "stream",
          "name": "stdout",
          "text": [
            "evaluation: -28.983\n"
          ]
        }
      ]
    },
    {
      "cell_type": "markdown",
      "metadata": {
        "id": "Hk08bxRhSC8z"
      },
      "source": [
        "# 2. Taxi Driver (30 pts)"
      ]
    },
    {
      "cell_type": "markdown",
      "metadata": {
        "id": "CqC9z_sGSC8z"
      },
      "source": [
        "The next game that we want to implement is **Taxi Driver**. "
      ]
    },
    {
      "cell_type": "markdown",
      "metadata": {
        "id": "PigfI8n3SC8z"
      },
      "source": [
        "## 2-1. Environment"
      ]
    },
    {
      "cell_type": "code",
      "execution_count": 15,
      "metadata": {
        "colab": {
          "base_uri": "https://localhost:8080/"
        },
        "id": "rZldHY_RSC84",
        "outputId": "63af9c9e-c0cc-4afe-ebd9-146bb66036b5"
      },
      "outputs": [
        {
          "output_type": "stream",
          "name": "stdout",
          "text": [
            "Action Space: Discrete(6)\n",
            "Observation Space: Discrete(500)\n",
            "Max Episode Steps: 200\n",
            "Nondeterministic: False\n",
            "Reward Range: (-inf, inf)\n",
            "Reward Threshold: 8\n",
            "\n"
          ]
        }
      ],
      "source": [
        "env = gym.make('Taxi-v3')\n",
        "spec = gym.spec('Taxi-v3')\n",
        "\n",
        "print(f\"Action Space: {env.action_space}\")\n",
        "print(f\"Observation Space: {env.observation_space}\")\n",
        "print(f\"Max Episode Steps: {spec.max_episode_steps}\")\n",
        "print(f\"Nondeterministic: {spec.nondeterministic}\")\n",
        "print(f\"Reward Range: {env.reward_range}\")\n",
        "print(f\"Reward Threshold: {spec.reward_threshold}\\n\")"
      ]
    },
    {
      "cell_type": "code",
      "execution_count": 16,
      "metadata": {
        "id": "NYSt4LuQSC84"
      },
      "outputs": [],
      "source": [
        "Actions =  {0: 'DOWN', \n",
        "            1: 'UP',\n",
        "            2: 'RIGHT',\n",
        "            3: 'LEFT',\n",
        "            4: 'Pickup passenger',\n",
        "            5: 'Drop off passenger'}"
      ]
    },
    {
      "cell_type": "markdown",
      "metadata": {
        "id": "YZMbqxhySC84"
      },
      "source": [
        "You can read more about the game and its observation space in this [link](https://gymnasium.farama.org/environments/toy_text/taxi/#observation-space).\n",
        "\n"
      ]
    },
    {
      "cell_type": "markdown",
      "metadata": {
        "id": "WtQp4fLgSC84"
      },
      "source": [
        "## 2-2. Q-Learning (5 pts)"
      ]
    },
    {
      "cell_type": "markdown",
      "metadata": {
        "id": "b80VRfCoSC84"
      },
      "source": [
        "Implement Q-Learning algorithm for this problem. (Of course, you can use the code you implemented in the previous section and just enjoy the result (: )"
      ]
    },
    {
      "cell_type": "code",
      "execution_count": 17,
      "metadata": {
        "id": "oC74yQc7SC84"
      },
      "outputs": [],
      "source": [
        "class TaxiQL(Agent):\n",
        "    def learn(self, num_episodes, alpha, gamma, epsilon):\n",
        "        ######################## YOUR CODE HERE ########################\n",
        "        for _ in range(num_episodes):\n",
        "          state = self.env.reset()\n",
        "          done = False\n",
        "\n",
        "          while (not done):\n",
        "            if (np.random.uniform(0, 1) < epsilon):\n",
        "              action = np.random.choice(len(Actions))\n",
        "            else:\n",
        "              action = np.argmax(self.q_values[state])\n",
        "            next_state, reward, done, _ = self.env.step(action)\n",
        "            sample = reward + gamma * np.max(self.q_values[next_state])\n",
        "            self.q_values[state][action] += alpha * (sample - self.q_values[state][action])\n",
        "            state = next_state\n",
        "        ######################## END YOUR CODE #########################\n",
        "        pass"
      ]
    },
    {
      "cell_type": "markdown",
      "metadata": {
        "id": "wPr5iRT8SC84"
      },
      "source": [
        "## 2-3. Q-Learning Evaluation (5 pts) "
      ]
    },
    {
      "cell_type": "markdown",
      "metadata": {
        "id": "oDcKSSwrSC84"
      },
      "source": [
        "Train your agent two times, once with 1000 episodes and once with 10000 episodes. Then evaluate it and display the result. Using the `visualize` function, show the path your agent takes in one of the episodes."
      ]
    },
    {
      "cell_type": "code",
      "execution_count": 18,
      "metadata": {
        "id": "CHdO9rrASC85"
      },
      "outputs": [],
      "source": [
        "taxi_ql = TaxiQL(env, 0)\n",
        "alpha = 0.8\n",
        "gamma = 0.95\n",
        "epsilon = 0.2\n",
        "episodes = 1000\n",
        "taxi_ql.learn(episodes, alpha, gamma, epsilon)"
      ]
    },
    {
      "cell_type": "code",
      "execution_count": 19,
      "metadata": {
        "colab": {
          "base_uri": "https://localhost:8080/"
        },
        "id": "lvW5Rhv4SC85",
        "outputId": "cb1ce000-a81e-460d-b925-9c06c5a88aaa"
      },
      "outputs": [
        {
          "output_type": "stream",
          "name": "stdout",
          "text": [
            "evaluation: 0.345\n"
          ]
        }
      ],
      "source": [
        "######################## YOUR CODE HERE ########################\n",
        "print(f'evaluation: {taxi_ql.evaluate(200)}')\n",
        "# done = False\n",
        "# taxi_ql.env.reset()\n",
        "# visualize(taxi_ql.env)\n",
        "# while (not done):\n",
        "#   _, reward, done, action = taxi_ql.act()\n",
        "#   # print(done)\n",
        "#   visualize(taxi_ql.env, reward=reward, action=action)\n",
        "######################## END YOUR CODE #########################"
      ]
    },
    {
      "cell_type": "code",
      "execution_count": 20,
      "metadata": {
        "id": "5KS0b_PTSC85"
      },
      "outputs": [],
      "source": [
        "taxi_ql = TaxiQL(env, 0)\n",
        "alpha = 0.8\n",
        "gamma = 0.95\n",
        "epsilon = 0.2\n",
        "episodes = 10000\n",
        "taxi_ql.learn(episodes, alpha, gamma, epsilon)"
      ]
    },
    {
      "cell_type": "code",
      "execution_count": 21,
      "metadata": {
        "colab": {
          "base_uri": "https://localhost:8080/"
        },
        "id": "7EgfHLImSC85",
        "outputId": "5fb2526d-3cbb-4b37-9e11-23a5bf96a368"
      },
      "outputs": [
        {
          "output_type": "stream",
          "name": "stdout",
          "text": [
            "evaluation: 11.0\n"
          ]
        }
      ],
      "source": [
        "######################## YOUR CODE HERE ########################\n",
        "print(f'evaluation: {taxi_ql.evaluate(1)}')\n",
        "# done = False\n",
        "# taxi_ql.env.reset()\n",
        "# visualize(taxi_ql.env)\n",
        "# while (not done):\n",
        "#   _, reward, done, action = taxi_ql.act()\n",
        "#   visualize(taxi_ql.env, reward=reward, action=action)\n",
        "######################## END YOUR CODE #########################"
      ]
    },
    {
      "cell_type": "markdown",
      "metadata": {
        "id": "bXC5XD6xSC85"
      },
      "source": [
        "## 2-4. TD(2) (15 pts)"
      ]
    },
    {
      "cell_type": "code",
      "execution_count": 21,
      "metadata": {
        "id": "x8JPI-GurEB5"
      },
      "outputs": [],
      "source": []
    },
    {
      "cell_type": "markdown",
      "metadata": {
        "id": "GMwcWGUaSC85"
      },
      "source": [
        "In this section, you have to implement the Taxi problem using TD(2) algorithm. The difference between this method and the previous methods is in the number of movements that we look from the future.\n",
        "\n",
        "For example, the SARSA TD(2) update rule can be represented as:\n",
        "\n",
        "$$Q(S_t,A_t) \\leftarrow Q(S_t,A_t) + \\alpha \\left( R_{t+1} + \\gamma Q(S_{t+1},A_{t+1}) + \\gamma^2 Q(s_{t+2},A_{t+2}) - Q(S_t,A_t) \\right)$$\n",
        "\n",
        "\n",
        "Where $Q(S_t,A_t)$ is the current estimate of the expected return for taking action $A_t$ in state $S_t$, $\\alpha$ is the learning rate, $R_{t+1}$ is the reward received after taking action $A_t$ in state $S_t$, $\\gamma$ is the discount factor, and $Q(S_{t+1},A_{t+1})$ is the estimated return for taking action $A_{t+1}$ in the next state $S_{t+1}$.\n",
        "\n",
        "You can see [this video](https://youtu.be/AJiG3ykOxmY) for more details about TD methods."
      ]
    },
    {
      "cell_type": "code",
      "execution_count": 36,
      "metadata": {
        "id": "uI7yxewDSC85"
      },
      "outputs": [],
      "source": [
        "class TaxiTD2(Agent):\n",
        "    \n",
        "    def learn(self, num_episodes, alpha, gamma, epsilon):\n",
        "        ######################## YOUR CODE HERE ########################\n",
        "        for _ in range(num_episodes):\n",
        "          done = False\n",
        "\n",
        "          state = self.env.reset()\n",
        "          action = self.get_action(state, epsilon)\n",
        "          next_state = self.env.P[state][action][0][1]\n",
        "          next_action = self.get_action(next_state, epsilon)\n",
        "\n",
        "          while (not done):\n",
        "            next_state, reward, done, _ = self.env.step(action)\n",
        "\n",
        "            _, next_next_state, next_reward, _ = self.env.P[next_state][next_action][0]\n",
        "            next_next_action = self.get_action(next_next_state, epsilon)\n",
        "\n",
        "            sample = reward + gamma * next_reward + gamma * (gamma * self.q_values[next_next_state][next_next_action])\n",
        "            self.q_values[state][action] += alpha * (sample - self.q_values[state][action])\n",
        "\n",
        "            state, action = next_state, next_action\n",
        "            next_state, next_action = next_next_state, next_next_action\n",
        "          epsilon *= 0.5\n",
        "        ######################## END YOUR CODE #########################\n",
        "    \n",
        "    def get_action(self, state, epsilon):\n",
        "      action = 0\n",
        "      if (np.random.uniform(0, 1) < epsilon):\n",
        "        action = self.env.action_space.sample()\n",
        "      else:\n",
        "        action = np.argmax(self.q_values[state])\n",
        "      return action\n"
      ]
    },
    {
      "cell_type": "markdown",
      "metadata": {
        "id": "OsLNTpboSC85"
      },
      "source": [
        "## 2-5. TD(2) Evaluation (5 pts)"
      ]
    },
    {
      "cell_type": "code",
      "execution_count": 47,
      "metadata": {
        "id": "_GWveAu_SC85"
      },
      "outputs": [],
      "source": [
        "taxi_td2 = TaxiTD2(env, 0)\n",
        "alpha = 0.8\n",
        "gamma = 0.9\n",
        "epsilon = 0.5\n",
        "episodes = 1000\n",
        "taxi_td2.learn(episodes, alpha, gamma, epsilon)"
      ]
    },
    {
      "cell_type": "code",
      "execution_count": 50,
      "metadata": {
        "colab": {
          "base_uri": "https://localhost:8080/"
        },
        "id": "y2xE639eSC86",
        "outputId": "8d04fcf0-aeaa-4b36-8c8a-db9351f88945"
      },
      "outputs": [
        {
          "output_type": "stream",
          "name": "stdout",
          "text": [
            "4.634\n"
          ]
        }
      ],
      "source": [
        "######################## YOUR CODE HERE ########################\n",
        "print(taxi_td2.evaluate(1000))\n",
        "# done = False\n",
        "# taxi_td2.env.reset()\n",
        "# visualize(taxi_td2.env)\n",
        "# while (not done):\n",
        "#   _, reward, done, action = taxi_td2.act()\n",
        "#   visualize(taxi_td2.env, reward=reward, action=action)\n",
        "######################## END YOUR CODE #########################"
      ]
    },
    {
      "cell_type": "markdown",
      "metadata": {
        "id": "rJoouJI-SC86"
      },
      "source": [
        "You can see that the TD(2) method can reach an acceptable policy faster. Try to explain why."
      ]
    }
  ],
  "metadata": {
    "colab": {
      "provenance": []
    },
    "kernelspec": {
      "display_name": "base",
      "language": "python",
      "name": "python3"
    },
    "language_info": {
      "codemirror_mode": {
        "name": "ipython",
        "version": 3
      },
      "file_extension": ".py",
      "mimetype": "text/x-python",
      "name": "python",
      "nbconvert_exporter": "python",
      "pygments_lexer": "ipython3",
      "version": "3.9.13"
    },
    "vscode": {
      "interpreter": {
        "hash": "026f2bef8fb7be59296f2f39e2043bb013bc567dc5026fb77125b1034979614d"
      }
    }
  },
  "nbformat": 4,
  "nbformat_minor": 0
}